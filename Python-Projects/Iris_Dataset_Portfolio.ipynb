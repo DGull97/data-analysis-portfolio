{
  "nbformat": 4,
  "nbformat_minor": 0,
  "metadata": {
    "colab": {
      "provenance": []
    },
    "kernelspec": {
      "name": "python3",
      "display_name": "Python 3"
    },
    "language_info": {
      "name": "python"
    }
  },
  "cells": [
    {
      "cell_type": "markdown",
      "source": [
        "Question 1: Which of the below best describes Scikit-learn?\n",
        "\n",
        "**Answer: A Python library providing tools for machine learning**"
      ],
      "metadata": {
        "id": "MJk5M5JLy1Gt"
      }
    },
    {
      "cell_type": "markdown",
      "source": [
        "Question 2: Scikit-learn provides access to a number of datasets. We will work with the iris dataset.\n",
        "What type of object is iris?"
      ],
      "metadata": {
        "id": "m0kxbM9C21sa"
      }
    },
    {
      "cell_type": "code",
      "source": [
        "from sklearn.datasets import load_iris\n",
        "iris = load_iris()\n",
        "print(type(iris))"
      ],
      "metadata": {
        "colab": {
          "base_uri": "https://localhost:8080/"
        },
        "id": "5XjvcfHB2QAv",
        "outputId": "ec9b22d7-8e34-4d86-f31e-2eeebcbc3aa0"
      },
      "execution_count": 4,
      "outputs": [
        {
          "output_type": "stream",
          "name": "stdout",
          "text": [
            "<class 'sklearn.utils._bunch.Bunch'>\n"
          ]
        }
      ]
    },
    {
      "cell_type": "markdown",
      "source": [
        "Question 3: The iris object has 8 attributes. Which attribute contains a description of the iris dataset?"
      ],
      "metadata": {
        "id": "EzcdPLew3BJ-"
      }
    },
    {
      "cell_type": "code",
      "source": [
        "dir(iris)"
      ],
      "metadata": {
        "colab": {
          "base_uri": "https://localhost:8080/"
        },
        "id": "kmt5B0CZ30Yd",
        "outputId": "301eb016-fe5c-4db4-f9fd-9938c15f39be"
      },
      "execution_count": 5,
      "outputs": [
        {
          "output_type": "execute_result",
          "data": {
            "text/plain": [
              "['DESCR',\n",
              " 'data',\n",
              " 'data_module',\n",
              " 'feature_names',\n",
              " 'filename',\n",
              " 'frame',\n",
              " 'target',\n",
              " 'target_names']"
            ]
          },
          "metadata": {},
          "execution_count": 5
        }
      ]
    },
    {
      "cell_type": "markdown",
      "source": [
        "Question 4: Print the description attribute of iris and read about the data. What domain is this data drawn from?"
      ],
      "metadata": {
        "id": "C7BR4gwI3-3V"
      }
    },
    {
      "cell_type": "code",
      "source": [
        "print(iris.DESCR)"
      ],
      "metadata": {
        "colab": {
          "base_uri": "https://localhost:8080/"
        },
        "id": "nBCUv6rC3I_K",
        "outputId": "3da85646-34b4-4b0d-bc42-ca66c25c2ab2"
      },
      "execution_count": 6,
      "outputs": [
        {
          "output_type": "stream",
          "name": "stdout",
          "text": [
            ".. _iris_dataset:\n",
            "\n",
            "Iris plants dataset\n",
            "--------------------\n",
            "\n",
            "**Data Set Characteristics:**\n",
            "\n",
            ":Number of Instances: 150 (50 in each of three classes)\n",
            ":Number of Attributes: 4 numeric, predictive attributes and the class\n",
            ":Attribute Information:\n",
            "    - sepal length in cm\n",
            "    - sepal width in cm\n",
            "    - petal length in cm\n",
            "    - petal width in cm\n",
            "    - class:\n",
            "            - Iris-Setosa\n",
            "            - Iris-Versicolour\n",
            "            - Iris-Virginica\n",
            "\n",
            ":Summary Statistics:\n",
            "\n",
            "============== ==== ==== ======= ===== ====================\n",
            "                Min  Max   Mean    SD   Class Correlation\n",
            "============== ==== ==== ======= ===== ====================\n",
            "sepal length:   4.3  7.9   5.84   0.83    0.7826\n",
            "sepal width:    2.0  4.4   3.05   0.43   -0.4194\n",
            "petal length:   1.0  6.9   3.76   1.76    0.9490  (high!)\n",
            "petal width:    0.1  2.5   1.20   0.76    0.9565  (high!)\n",
            "============== ==== ==== ======= ===== ====================\n",
            "\n",
            ":Missing Attribute Values: None\n",
            ":Class Distribution: 33.3% for each of 3 classes.\n",
            ":Creator: R.A. Fisher\n",
            ":Donor: Michael Marshall (MARSHALL%PLU@io.arc.nasa.gov)\n",
            ":Date: July, 1988\n",
            "\n",
            "The famous Iris database, first used by Sir R.A. Fisher. The dataset is taken\n",
            "from Fisher's paper. Note that it's the same as in R, but not as in the UCI\n",
            "Machine Learning Repository, which has two wrong data points.\n",
            "\n",
            "This is perhaps the best known database to be found in the\n",
            "pattern recognition literature.  Fisher's paper is a classic in the field and\n",
            "is referenced frequently to this day.  (See Duda & Hart, for example.)  The\n",
            "data set contains 3 classes of 50 instances each, where each class refers to a\n",
            "type of iris plant.  One class is linearly separable from the other 2; the\n",
            "latter are NOT linearly separable from each other.\n",
            "\n",
            ".. dropdown:: References\n",
            "\n",
            "  - Fisher, R.A. \"The use of multiple measurements in taxonomic problems\"\n",
            "    Annual Eugenics, 7, Part II, 179-188 (1936); also in \"Contributions to\n",
            "    Mathematical Statistics\" (John Wiley, NY, 1950).\n",
            "  - Duda, R.O., & Hart, P.E. (1973) Pattern Classification and Scene Analysis.\n",
            "    (Q327.D83) John Wiley & Sons.  ISBN 0-471-22361-1.  See page 218.\n",
            "  - Dasarathy, B.V. (1980) \"Nosing Around the Neighborhood: A New System\n",
            "    Structure and Classification Rule for Recognition in Partially Exposed\n",
            "    Environments\".  IEEE Transactions on Pattern Analysis and Machine\n",
            "    Intelligence, Vol. PAMI-2, No. 1, 67-71.\n",
            "  - Gates, G.W. (1972) \"The Reduced Nearest Neighbor Rule\".  IEEE Transactions\n",
            "    on Information Theory, May 1972, 431-433.\n",
            "  - See also: 1988 MLC Proceedings, 54-64.  Cheeseman et al\"s AUTOCLASS II\n",
            "    conceptual clustering system finds 3 classes in the data.\n",
            "  - Many, many more ...\n",
            "\n"
          ]
        }
      ]
    },
    {
      "cell_type": "markdown",
      "source": [
        "Question 5: What does a single observation (row) in the iris dataset represent?"
      ],
      "metadata": {
        "id": "ILpjh2DB4HD8"
      }
    },
    {
      "cell_type": "code",
      "source": [
        "print(iris.data)\n",
        "print(iris.target)"
      ],
      "metadata": {
        "colab": {
          "base_uri": "https://localhost:8080/"
        },
        "id": "skpWkQY44Jgg",
        "outputId": "1a65e255-5925-4574-bea8-d6413dcba11a"
      },
      "execution_count": 7,
      "outputs": [
        {
          "output_type": "stream",
          "name": "stdout",
          "text": [
            "[[5.1 3.5 1.4 0.2]\n",
            " [4.9 3.  1.4 0.2]\n",
            " [4.7 3.2 1.3 0.2]\n",
            " [4.6 3.1 1.5 0.2]\n",
            " [5.  3.6 1.4 0.2]\n",
            " [5.4 3.9 1.7 0.4]\n",
            " [4.6 3.4 1.4 0.3]\n",
            " [5.  3.4 1.5 0.2]\n",
            " [4.4 2.9 1.4 0.2]\n",
            " [4.9 3.1 1.5 0.1]\n",
            " [5.4 3.7 1.5 0.2]\n",
            " [4.8 3.4 1.6 0.2]\n",
            " [4.8 3.  1.4 0.1]\n",
            " [4.3 3.  1.1 0.1]\n",
            " [5.8 4.  1.2 0.2]\n",
            " [5.7 4.4 1.5 0.4]\n",
            " [5.4 3.9 1.3 0.4]\n",
            " [5.1 3.5 1.4 0.3]\n",
            " [5.7 3.8 1.7 0.3]\n",
            " [5.1 3.8 1.5 0.3]\n",
            " [5.4 3.4 1.7 0.2]\n",
            " [5.1 3.7 1.5 0.4]\n",
            " [4.6 3.6 1.  0.2]\n",
            " [5.1 3.3 1.7 0.5]\n",
            " [4.8 3.4 1.9 0.2]\n",
            " [5.  3.  1.6 0.2]\n",
            " [5.  3.4 1.6 0.4]\n",
            " [5.2 3.5 1.5 0.2]\n",
            " [5.2 3.4 1.4 0.2]\n",
            " [4.7 3.2 1.6 0.2]\n",
            " [4.8 3.1 1.6 0.2]\n",
            " [5.4 3.4 1.5 0.4]\n",
            " [5.2 4.1 1.5 0.1]\n",
            " [5.5 4.2 1.4 0.2]\n",
            " [4.9 3.1 1.5 0.2]\n",
            " [5.  3.2 1.2 0.2]\n",
            " [5.5 3.5 1.3 0.2]\n",
            " [4.9 3.6 1.4 0.1]\n",
            " [4.4 3.  1.3 0.2]\n",
            " [5.1 3.4 1.5 0.2]\n",
            " [5.  3.5 1.3 0.3]\n",
            " [4.5 2.3 1.3 0.3]\n",
            " [4.4 3.2 1.3 0.2]\n",
            " [5.  3.5 1.6 0.6]\n",
            " [5.1 3.8 1.9 0.4]\n",
            " [4.8 3.  1.4 0.3]\n",
            " [5.1 3.8 1.6 0.2]\n",
            " [4.6 3.2 1.4 0.2]\n",
            " [5.3 3.7 1.5 0.2]\n",
            " [5.  3.3 1.4 0.2]\n",
            " [7.  3.2 4.7 1.4]\n",
            " [6.4 3.2 4.5 1.5]\n",
            " [6.9 3.1 4.9 1.5]\n",
            " [5.5 2.3 4.  1.3]\n",
            " [6.5 2.8 4.6 1.5]\n",
            " [5.7 2.8 4.5 1.3]\n",
            " [6.3 3.3 4.7 1.6]\n",
            " [4.9 2.4 3.3 1. ]\n",
            " [6.6 2.9 4.6 1.3]\n",
            " [5.2 2.7 3.9 1.4]\n",
            " [5.  2.  3.5 1. ]\n",
            " [5.9 3.  4.2 1.5]\n",
            " [6.  2.2 4.  1. ]\n",
            " [6.1 2.9 4.7 1.4]\n",
            " [5.6 2.9 3.6 1.3]\n",
            " [6.7 3.1 4.4 1.4]\n",
            " [5.6 3.  4.5 1.5]\n",
            " [5.8 2.7 4.1 1. ]\n",
            " [6.2 2.2 4.5 1.5]\n",
            " [5.6 2.5 3.9 1.1]\n",
            " [5.9 3.2 4.8 1.8]\n",
            " [6.1 2.8 4.  1.3]\n",
            " [6.3 2.5 4.9 1.5]\n",
            " [6.1 2.8 4.7 1.2]\n",
            " [6.4 2.9 4.3 1.3]\n",
            " [6.6 3.  4.4 1.4]\n",
            " [6.8 2.8 4.8 1.4]\n",
            " [6.7 3.  5.  1.7]\n",
            " [6.  2.9 4.5 1.5]\n",
            " [5.7 2.6 3.5 1. ]\n",
            " [5.5 2.4 3.8 1.1]\n",
            " [5.5 2.4 3.7 1. ]\n",
            " [5.8 2.7 3.9 1.2]\n",
            " [6.  2.7 5.1 1.6]\n",
            " [5.4 3.  4.5 1.5]\n",
            " [6.  3.4 4.5 1.6]\n",
            " [6.7 3.1 4.7 1.5]\n",
            " [6.3 2.3 4.4 1.3]\n",
            " [5.6 3.  4.1 1.3]\n",
            " [5.5 2.5 4.  1.3]\n",
            " [5.5 2.6 4.4 1.2]\n",
            " [6.1 3.  4.6 1.4]\n",
            " [5.8 2.6 4.  1.2]\n",
            " [5.  2.3 3.3 1. ]\n",
            " [5.6 2.7 4.2 1.3]\n",
            " [5.7 3.  4.2 1.2]\n",
            " [5.7 2.9 4.2 1.3]\n",
            " [6.2 2.9 4.3 1.3]\n",
            " [5.1 2.5 3.  1.1]\n",
            " [5.7 2.8 4.1 1.3]\n",
            " [6.3 3.3 6.  2.5]\n",
            " [5.8 2.7 5.1 1.9]\n",
            " [7.1 3.  5.9 2.1]\n",
            " [6.3 2.9 5.6 1.8]\n",
            " [6.5 3.  5.8 2.2]\n",
            " [7.6 3.  6.6 2.1]\n",
            " [4.9 2.5 4.5 1.7]\n",
            " [7.3 2.9 6.3 1.8]\n",
            " [6.7 2.5 5.8 1.8]\n",
            " [7.2 3.6 6.1 2.5]\n",
            " [6.5 3.2 5.1 2. ]\n",
            " [6.4 2.7 5.3 1.9]\n",
            " [6.8 3.  5.5 2.1]\n",
            " [5.7 2.5 5.  2. ]\n",
            " [5.8 2.8 5.1 2.4]\n",
            " [6.4 3.2 5.3 2.3]\n",
            " [6.5 3.  5.5 1.8]\n",
            " [7.7 3.8 6.7 2.2]\n",
            " [7.7 2.6 6.9 2.3]\n",
            " [6.  2.2 5.  1.5]\n",
            " [6.9 3.2 5.7 2.3]\n",
            " [5.6 2.8 4.9 2. ]\n",
            " [7.7 2.8 6.7 2. ]\n",
            " [6.3 2.7 4.9 1.8]\n",
            " [6.7 3.3 5.7 2.1]\n",
            " [7.2 3.2 6.  1.8]\n",
            " [6.2 2.8 4.8 1.8]\n",
            " [6.1 3.  4.9 1.8]\n",
            " [6.4 2.8 5.6 2.1]\n",
            " [7.2 3.  5.8 1.6]\n",
            " [7.4 2.8 6.1 1.9]\n",
            " [7.9 3.8 6.4 2. ]\n",
            " [6.4 2.8 5.6 2.2]\n",
            " [6.3 2.8 5.1 1.5]\n",
            " [6.1 2.6 5.6 1.4]\n",
            " [7.7 3.  6.1 2.3]\n",
            " [6.3 3.4 5.6 2.4]\n",
            " [6.4 3.1 5.5 1.8]\n",
            " [6.  3.  4.8 1.8]\n",
            " [6.9 3.1 5.4 2.1]\n",
            " [6.7 3.1 5.6 2.4]\n",
            " [6.9 3.1 5.1 2.3]\n",
            " [5.8 2.7 5.1 1.9]\n",
            " [6.8 3.2 5.9 2.3]\n",
            " [6.7 3.3 5.7 2.5]\n",
            " [6.7 3.  5.2 2.3]\n",
            " [6.3 2.5 5.  1.9]\n",
            " [6.5 3.  5.2 2. ]\n",
            " [6.2 3.4 5.4 2.3]\n",
            " [5.9 3.  5.1 1.8]]\n",
            "[0 0 0 0 0 0 0 0 0 0 0 0 0 0 0 0 0 0 0 0 0 0 0 0 0 0 0 0 0 0 0 0 0 0 0 0 0\n",
            " 0 0 0 0 0 0 0 0 0 0 0 0 0 1 1 1 1 1 1 1 1 1 1 1 1 1 1 1 1 1 1 1 1 1 1 1 1\n",
            " 1 1 1 1 1 1 1 1 1 1 1 1 1 1 1 1 1 1 1 1 1 1 1 1 1 1 2 2 2 2 2 2 2 2 2 2 2\n",
            " 2 2 2 2 2 2 2 2 2 2 2 2 2 2 2 2 2 2 2 2 2 2 2 2 2 2 2 2 2 2 2 2 2 2 2 2 2\n",
            " 2 2]\n"
          ]
        }
      ]
    },
    {
      "cell_type": "markdown",
      "source": [
        "Question 6: We need to create a Pandas DataFrame to hold the iris dataset. Read iris.DESCR and inspect the type of iris's other attributes.\n",
        "\n",
        "What steps must we take to create a Pandas DataFrame?"
      ],
      "metadata": {
        "id": "0Oaw5E-54j9L"
      }
    },
    {
      "cell_type": "code",
      "source": [
        "import pandas as pd\n",
        "# Create a DataFrame for features\n",
        "df_features = pd.DataFrame(iris.data, columns=iris.feature_names)\n",
        "\n",
        "# Create a Series for the target values (species)\n",
        "df_target = pd.Series(iris.target, name=\"species\")\n",
        "\n",
        "# Combine them using pd.concat along axis=1 (column-wise)\n",
        "df = pd.concat([df_features, df_target], axis=1)\n",
        "\n",
        "# Display the DataFrame\n",
        "print(df.head())"
      ],
      "metadata": {
        "colab": {
          "base_uri": "https://localhost:8080/"
        },
        "id": "NUELTZe54ltd",
        "outputId": "0bc8ff85-1abd-4923-a865-6b736b1ebf12"
      },
      "execution_count": 8,
      "outputs": [
        {
          "output_type": "stream",
          "name": "stdout",
          "text": [
            "   sepal length (cm)  sepal width (cm)  petal length (cm)  petal width (cm)  \\\n",
            "0                5.1               3.5                1.4               0.2   \n",
            "1                4.9               3.0                1.4               0.2   \n",
            "2                4.7               3.2                1.3               0.2   \n",
            "3                4.6               3.1                1.5               0.2   \n",
            "4                5.0               3.6                1.4               0.2   \n",
            "\n",
            "   species  \n",
            "0        0  \n",
            "1        0  \n",
            "2        0  \n",
            "3        0  \n",
            "4        0  \n"
          ]
        }
      ]
    },
    {
      "cell_type": "markdown",
      "source": [
        "Question 7: What are the dimensions of the complete iris DataFrame?"
      ],
      "metadata": {
        "id": "gNgv_JSx5szS"
      }
    },
    {
      "cell_type": "code",
      "source": [
        "print(df.shape)"
      ],
      "metadata": {
        "colab": {
          "base_uri": "https://localhost:8080/"
        },
        "id": "pyMu0kv750fr",
        "outputId": "f7286bfb-221d-4e51-9df5-820b97d15bbe"
      },
      "execution_count": 12,
      "outputs": [
        {
          "output_type": "stream",
          "name": "stdout",
          "text": [
            "(150, 5)\n"
          ]
        }
      ]
    },
    {
      "cell_type": "markdown",
      "source": [
        "Question 8: Compare iris.DESCR to iris.target. Can you figure out how to map the encoding in iris.target to the species names?"
      ],
      "metadata": {
        "id": "BGj3fn3s7Sm-"
      }
    },
    {
      "cell_type": "code",
      "source": [
        "#print(iris.target_names)\n",
        "#print(iris.target)\n",
        "\n",
        "df = pd.DataFrame(iris.data, columns=iris.feature_names)\n",
        "df[\"species\"] = iris.target\n",
        "df[\"species_name\"] = df[\"species\"].apply(lambda x: iris.target_names[x])\n",
        "\n",
        "print(df)"
      ],
      "metadata": {
        "colab": {
          "base_uri": "https://localhost:8080/"
        },
        "id": "ERVMv41d7TG7",
        "outputId": "40319c43-1885-4b13-8761-0c8926b74a99"
      },
      "execution_count": 9,
      "outputs": [
        {
          "output_type": "stream",
          "name": "stdout",
          "text": [
            "     sepal length (cm)  sepal width (cm)  petal length (cm)  petal width (cm)  \\\n",
            "0                  5.1               3.5                1.4               0.2   \n",
            "1                  4.9               3.0                1.4               0.2   \n",
            "2                  4.7               3.2                1.3               0.2   \n",
            "3                  4.6               3.1                1.5               0.2   \n",
            "4                  5.0               3.6                1.4               0.2   \n",
            "..                 ...               ...                ...               ...   \n",
            "145                6.7               3.0                5.2               2.3   \n",
            "146                6.3               2.5                5.0               1.9   \n",
            "147                6.5               3.0                5.2               2.0   \n",
            "148                6.2               3.4                5.4               2.3   \n",
            "149                5.9               3.0                5.1               1.8   \n",
            "\n",
            "     species species_name  \n",
            "0          0       setosa  \n",
            "1          0       setosa  \n",
            "2          0       setosa  \n",
            "3          0       setosa  \n",
            "4          0       setosa  \n",
            "..       ...          ...  \n",
            "145        2    virginica  \n",
            "146        2    virginica  \n",
            "147        2    virginica  \n",
            "148        2    virginica  \n",
            "149        2    virginica  \n",
            "\n",
            "[150 rows x 6 columns]\n"
          ]
        }
      ]
    },
    {
      "cell_type": "markdown",
      "source": [
        "Question 9: We have measurements for sepal length and width, and measurements for petal length and width.\n",
        "\n",
        "Suppose we want to compare a flower's sepals with its petals using some notion of \"total size\".\n",
        "\n",
        "We don't have enough information to calculate volumes, so will simplify drastically by assuming sepals and petals are 2d rectangles.\n",
        "\n",
        "What is the Pearson correlation between the sepal area and petal area?"
      ],
      "metadata": {
        "id": "PZScERogAZ1Y"
      }
    },
    {
      "cell_type": "code",
      "source": [
        "df[\"sepal_area\"] = df[\"sepal length (cm)\"] * df[\"sepal width (cm)\"]\n",
        "df[\"petal_area\"] = df[\"petal length (cm)\"] * df[\"petal width (cm)\"]\n",
        "\n",
        "pearson_corr = df[\"sepal_area\"].corr(df[\"petal_area\"])\n",
        "print(\"Pearson Correlation:\", pearson_corr)"
      ],
      "metadata": {
        "colab": {
          "base_uri": "https://localhost:8080/"
        },
        "id": "19A4Z-BYAiof",
        "outputId": "ee9bf89c-1116-4b5f-ca82-e5648ff0d6ed"
      },
      "execution_count": 10,
      "outputs": [
        {
          "output_type": "stream",
          "name": "stdout",
          "text": [
            "Pearson Correlation: 0.4545033351745463\n"
          ]
        }
      ]
    },
    {
      "cell_type": "markdown",
      "source": [
        "Question 10: Which scatter plot below would produce a correlation close to the one you calculated for sepal area vs petal area?\n",
        "\n",
        "**Answer: Choice 3**"
      ],
      "metadata": {
        "id": "_8IcV7q_DzRr"
      }
    },
    {
      "cell_type": "markdown",
      "source": [
        "Question 11: There is a hypothesis test associated with the Pearson correlation. It is called Pearson correlation significance test. The test has null/alternative hypotheses and significance is decided by evaluating a p-value.\n",
        "\n",
        "If you run this test at a significance threshold of 0.05 and the p-value is 0.4, what does this mean?\n",
        "\n",
        "**Answer: We fail to reject the null hypothesis that the population correlation is 0.**"
      ],
      "metadata": {
        "id": "JTzGPk5_D3hc"
      }
    },
    {
      "cell_type": "markdown",
      "source": [
        "Question 12: Pearson correlation comes in handy when we are comparing 2 continuous variables. What if we want to compare a continuous variable across a categorical variable with 2 levels?\n",
        "\n",
        "For example, suppose we wanted to know how sepal length varies across flowers that are either Virginica or not-Virginica. Which techniques below could possibly apply?\n",
        "\n",
        "**Answer: Two-Sample Unpaired t-Test**"
      ],
      "metadata": {
        "id": "pgN_vWT1Jjn2"
      }
    },
    {
      "cell_type": "markdown",
      "source": [
        "Question 13: What coding approach can we take to create a new column in our DataFrame that is equal to 1 if the observation is a Virginica, and 0 otherwise?"
      ],
      "metadata": {
        "id": "N6KLuicgVItk"
      }
    },
    {
      "cell_type": "code",
      "source": [
        "import numpy as np\n",
        "df[\"is_virginica\"] = np.where(df[\"species_name\"] == \"virginica\", 1, 0)\n",
        "df[\"is_virginica_2\"] = df[\"species_name\"].map(lambda x: 1 if x == \"virginica\" else 0)\n",
        "print(df)"
      ],
      "metadata": {
        "colab": {
          "base_uri": "https://localhost:8080/"
        },
        "id": "2NJmFx8fWHm5",
        "outputId": "a6ef3675-1e3e-4307-9870-8de415d0174c"
      },
      "execution_count": 12,
      "outputs": [
        {
          "output_type": "stream",
          "name": "stdout",
          "text": [
            "     sepal length (cm)  sepal width (cm)  petal length (cm)  petal width (cm)  \\\n",
            "0                  5.1               3.5                1.4               0.2   \n",
            "1                  4.9               3.0                1.4               0.2   \n",
            "2                  4.7               3.2                1.3               0.2   \n",
            "3                  4.6               3.1                1.5               0.2   \n",
            "4                  5.0               3.6                1.4               0.2   \n",
            "..                 ...               ...                ...               ...   \n",
            "145                6.7               3.0                5.2               2.3   \n",
            "146                6.3               2.5                5.0               1.9   \n",
            "147                6.5               3.0                5.2               2.0   \n",
            "148                6.2               3.4                5.4               2.3   \n",
            "149                5.9               3.0                5.1               1.8   \n",
            "\n",
            "     species species_name  sepal_area  petal_area  is_virginica  \\\n",
            "0          0       setosa       17.85        0.28             0   \n",
            "1          0       setosa       14.70        0.28             0   \n",
            "2          0       setosa       15.04        0.26             0   \n",
            "3          0       setosa       14.26        0.30             0   \n",
            "4          0       setosa       18.00        0.28             0   \n",
            "..       ...          ...         ...         ...           ...   \n",
            "145        2    virginica       20.10       11.96             1   \n",
            "146        2    virginica       15.75        9.50             1   \n",
            "147        2    virginica       19.50       10.40             1   \n",
            "148        2    virginica       21.08       12.42             1   \n",
            "149        2    virginica       17.70        9.18             1   \n",
            "\n",
            "     is_virginica_2  \n",
            "0                 0  \n",
            "1                 0  \n",
            "2                 0  \n",
            "3                 0  \n",
            "4                 0  \n",
            "..              ...  \n",
            "145               1  \n",
            "146               1  \n",
            "147               1  \n",
            "148               1  \n",
            "149               1  \n",
            "\n",
            "[150 rows x 10 columns]\n"
          ]
        }
      ]
    },
    {
      "cell_type": "markdown",
      "source": [
        "Question 14: Create two Pandas.Series objects. One should contain sepal length measurements for Virginica flowers, and the other should contain the same for non-Virginica flowers.\n",
        "\n",
        "Conduct a two sample unpaired t-test using this data. Which number below is the closest to the p-value for this test?This question is required."
      ],
      "metadata": {
        "id": "EDD7X6XFZt0u"
      }
    },
    {
      "cell_type": "code",
      "source": [
        "import pandas as pd\n",
        "import numpy as np\n",
        "from scipy import stats\n",
        "from sklearn.datasets import load_iris\n",
        "\n",
        "iris = load_iris()\n",
        "\n",
        "df = pd.DataFrame(iris.data, columns=iris.feature_names)\n",
        "df[\"species\"] = iris.target\n",
        "\n",
        "species_names = dict(enumerate(iris.target_names))\n",
        "df[\"species_name\"] = df[\"species\"].map(species_names)\n",
        "\n",
        "virginica = df[df[\"species_name\"] == \"virginica\"][\"sepal length (cm)\"]\n",
        "not_virginica = df[df[\"species_name\"] != \"virginica\"][\"sepal length (cm)\"]\n",
        "\n",
        "t_stat, p_value = stats.ttest_ind(virginica, not_virginica, equal_var=False)\n",
        "\n",
        "print(f\"T-Statistic: {t_stat:.4f}\")\n",
        "print(f\"P-Value: {p_value:.4f}\")\n",
        "\n",
        "alpha = 0.05  # Significance level\n",
        "if p_value < alpha:\n",
        "    print(\"🔹 Reject the null hypothesis: Significant difference in sepal length.\")\n",
        "else:\n",
        "    print(\"🔹 Fail to reject the null hypothesis: No significant difference in sepal length.\")\n"
      ],
      "metadata": {
        "colab": {
          "base_uri": "https://localhost:8080/"
        },
        "id": "gTet7t9j5a1u",
        "outputId": "4568a322-9bd7-4393-8e89-1a2f352e0475"
      },
      "execution_count": 1,
      "outputs": [
        {
          "output_type": "stream",
          "name": "stdout",
          "text": [
            "T-Statistic: 10.1109\n",
            "P-Value: 0.0000\n",
            "🔹 Reject the null hypothesis: Significant difference in sepal length.\n"
          ]
        }
      ]
    },
    {
      "cell_type": "markdown",
      "source": [
        "Question 15: What if we want to compare sepal length across all 3 species? Which models can we use?\n",
        "\n",
        "**Answer: Analysis of Variance (ANOVA)**\n",
        "\n"
      ],
      "metadata": {
        "id": "MMC2W6IE5jlh"
      }
    },
    {
      "cell_type": "markdown",
      "source": [
        "Question 16: We want to answer this question about the data:\n",
        "\n",
        "\"What is the relationship between sepal length and Iris species?\"\n",
        "\n",
        "With this question in mind, why is Linear Regression a more powerful approach compared to ANOVA?\n",
        "\n",
        "**Answer: Linear Regression can provide coefficients that quantify the change in sepal length for different Iris species**"
      ],
      "metadata": {
        "id": "TxjJHHWO6A8f"
      }
    },
    {
      "cell_type": "markdown",
      "source": [
        "Question 17: Use the f_oneway function from the scipy.stats module to perform an ANOVA on sepal length by species.\n",
        "\n",
        "What is the F-statistic for this ANOVA?"
      ],
      "metadata": {
        "id": "blCNLGtt6W8l"
      }
    },
    {
      "cell_type": "code",
      "source": [
        "import pandas as pd\n",
        "from scipy.stats import f_oneway\n",
        "from sklearn.datasets import load_iris\n",
        "\n",
        "iris = load_iris()\n",
        "\n",
        "df = pd.DataFrame(iris.data, columns=iris.feature_names)\n",
        "df[\"species\"] = iris.target\n",
        "\n",
        "species_names = dict(enumerate(iris.target_names))\n",
        "df[\"species_name\"] = df[\"species\"].map(species_names)\n",
        "\n",
        "setosa = df[df[\"species_name\"] == \"setosa\"][\"sepal length (cm)\"]\n",
        "versicolor = df[df[\"species_name\"] == \"versicolor\"][\"sepal length (cm)\"]\n",
        "virginica = df[df[\"species_name\"] == \"virginica\"][\"sepal length (cm)\"]\n",
        "\n",
        "f_stat, p_value = f_oneway(setosa, versicolor, virginica)\n",
        "\n",
        "print(f\"F-Statistic: {f_stat:.4f}\")\n",
        "print(f\"P-Value: {p_value:.10f}\")\n",
        "\n",
        "alpha = 0.05  # Significance level\n",
        "if p_value < alpha:\n",
        "    print(\"🔹 Reject the null hypothesis: Sepal length differs significantly among species.\")\n",
        "else:\n",
        "    print(\"🔹 Fail to reject the null hypothesis: No significant difference in sepal length.\")\n"
      ],
      "metadata": {
        "colab": {
          "base_uri": "https://localhost:8080/"
        },
        "id": "ULk_AGES7epk",
        "outputId": "1b470cf2-25b1-4dab-ba08-980228001552"
      },
      "execution_count": 2,
      "outputs": [
        {
          "output_type": "stream",
          "name": "stdout",
          "text": [
            "F-Statistic: 119.2645\n",
            "P-Value: 0.0000000000\n",
            "🔹 Reject the null hypothesis: Sepal length differs significantly among species.\n"
          ]
        }
      ]
    },
    {
      "cell_type": "markdown",
      "source": [
        "Question 18: Consider that:\n",
        "1) The null hypothesis for ANOVA is that there's no difference in the means between groups.\n",
        "2) The F statistic is (roughly) the difference between groups divided by the difference within groups.\n",
        "\n",
        "Keeping the above in mind, what is the relationship between the F statistic and the p-value?\n",
        "In our ANOVA, groups refers to species.\n",
        "\n",
        "**Answer: As the F statistic goes up, the p-value goes down.**"
      ],
      "metadata": {
        "id": "wKJwS2fz8XG-"
      }
    },
    {
      "cell_type": "markdown",
      "source": [
        "Question 19: We want to make a linear regression model to predict sepal length as a function of Iris species.\n",
        "\n",
        "sepal length = f(species)\n",
        "\n",
        "By default species is encoded as either 0, 1 or 2. This means our regression formula is:\n",
        "\n",
        "sepal length = intercept + slope*species\n",
        "\n",
        "Right?\n",
        "\n",
        "**Answer: No, the numerical encoding doesn't make sense since there's no inherent order to the Iris species.**"
      ],
      "metadata": {
        "id": "0cGreIBP8yKg"
      }
    },
    {
      "cell_type": "markdown",
      "source": [
        "Question 20: What does pandas.get_dummies do?\n",
        "\n",
        "**Answer: It generates binary variables (0 or 1) for each category of a categorical variable.**"
      ],
      "metadata": {
        "id": "MenoV7Tt99Gk"
      }
    },
    {
      "cell_type": "markdown",
      "source": [
        "Question 21: Imagine we will use N data points to fit a regression model to predict height as a function of handedness (left or right handed). We use indicator variable(s) for handedness, meaning our handedness column(s) will contain a 1 or a 0.\n",
        "\n",
        "If we encode handedness using one variable, our X variable has dimensions (N,1) and we write our model as:\n",
        "\n",
        "y = height = intercept + slope*right_handed = f(right_handed) = f(X)\n",
        "\n",
        "If we encode handedness using two variables, our X variable has dimensions (N,2) and we write our model as:\n",
        "\n",
        "y = height = intercept + slope_r*right_handed + slope_l*left_handed = f(right_handed, left_handed) = f(X)\n",
        "\n",
        "The second one will throw an error. Why?\n",
        "\n",
        "**Answer: Because the presence of both indicators creates a redundancy which makes it impossible for the model to estimate both slope terms accurately.**"
      ],
      "metadata": {
        "id": "aWEcsu67-j4Q"
      }
    },
    {
      "cell_type": "markdown",
      "source": [
        "Question 22: We want to make a linear regression model to predict sepal length as a function of Iris species.\n",
        "\n",
        "y = sepal length = f(species) = f(X)\n",
        "\n",
        "What are the shapes of sepal length (y) and species (X) in the formula above?"
      ],
      "metadata": {
        "id": "TWqR-7Ds_Bsw"
      }
    },
    {
      "cell_type": "code",
      "source": [
        "# ✅ Complete Code to Verify Shapes of y (sepal length) and X (species one-hot encoded with all categories)\n",
        "\n",
        "import pandas as pd\n",
        "import numpy as np\n",
        "from sklearn.datasets import load_iris\n",
        "\n",
        "iris = load_iris()\n",
        "\n",
        "df = pd.DataFrame(iris.data, columns=iris.feature_names)\n",
        "df[\"species\"] = iris.target\n",
        "\n",
        "species_names = dict(enumerate(iris.target_names))\n",
        "df[\"species_name\"] = df[\"species\"].map(species_names)\n",
        "\n",
        "df_encoded = pd.get_dummies(df, columns=[\"species_name\"], drop_first=False)\n",
        "\n",
        "y = df_encoded[\"sepal length (cm)\"].values.reshape(-1, 1)  # Reshaping to (150,1)\n",
        "\n",
        "X = df_encoded[[\"species_name_setosa\", \"species_name_versicolor\", \"species_name_virginica\"]].values\n",
        "\n",
        "y_shape = y.shape  # Shape of Sepal Length\n",
        "X_shape = X.shape  # Shape of One-Hot Encoded Species\n",
        "\n",
        "y_shape, X_shape\n"
      ],
      "metadata": {
        "colab": {
          "base_uri": "https://localhost:8080/"
        },
        "id": "owJ7sOn-_xur",
        "outputId": "e4c8467f-17fa-49d0-c089-4144ded47834"
      },
      "execution_count": 3,
      "outputs": [
        {
          "output_type": "execute_result",
          "data": {
            "text/plain": [
              "((150, 1), (150, 3))"
            ]
          },
          "metadata": {},
          "execution_count": 3
        }
      ]
    },
    {
      "cell_type": "markdown",
      "source": [
        "Question 23: Fit a linear regression using the statsmodels library after making sure sepal length (y) and the species (X) have the correct shape.\n",
        "\n",
        "In what neighborhood is the R-squared for this model?"
      ],
      "metadata": {
        "id": "ItN8aD0y_7cy"
      }
    },
    {
      "cell_type": "code",
      "source": [
        "import pandas as pd\n",
        "import numpy as np\n",
        "import statsmodels.api as sm\n",
        "from sklearn.datasets import load_iris\n",
        "\n",
        "iris = load_iris()\n",
        "df = pd.DataFrame(iris.data, columns=iris.feature_names)\n",
        "df[\"species\"] = iris.target\n",
        "\n",
        "# Map species numbers to names\n",
        "species_names = dict(enumerate(iris.target_names))\n",
        "df[\"species_name\"] = df[\"species\"].map(species_names)\n",
        "\n",
        "# Apply One-Hot Encoding (Keep all categories)\n",
        "df_encoded = pd.get_dummies(df, columns=[\"species_name\"], drop_first=False)\n",
        "\n",
        "# Define Target Variable (Sepal Length)\n",
        "y = df_encoded[\"sepal length (cm)\"].values.reshape(-1, 1)  # Reshape to (150,1)\n",
        "\n",
        "# Define Predictor Variables (Species One-Hot Encoded with all categories)\n",
        "X = df_encoded[[\"species_name_setosa\", \"species_name_versicolor\", \"species_name_virginica\"]].values\n",
        "\n",
        "# Convert any boolean values to integers (Fix TypeError)\n",
        "X = X.astype(int)\n",
        "\n",
        "# Add Constant for Intercept\n",
        "X_sm = sm.add_constant(X)\n",
        "\n",
        "# Fit OLS Regression Model\n",
        "model = sm.OLS(y, X_sm).fit()\n",
        "\n",
        "# Print Regression Summary\n",
        "print(model.summary())\n"
      ],
      "metadata": {
        "colab": {
          "base_uri": "https://localhost:8080/"
        },
        "id": "JelvGHpbASxY",
        "outputId": "1d1b3d91-f279-4621-e5f5-a8b5ffd32247"
      },
      "execution_count": 5,
      "outputs": [
        {
          "output_type": "stream",
          "name": "stdout",
          "text": [
            "                            OLS Regression Results                            \n",
            "==============================================================================\n",
            "Dep. Variable:                      y   R-squared:                       0.619\n",
            "Model:                            OLS   Adj. R-squared:                  0.614\n",
            "Method:                 Least Squares   F-statistic:                     119.3\n",
            "Date:                Thu, 20 Feb 2025   Prob (F-statistic):           1.67e-31\n",
            "Time:                        01:39:32   Log-Likelihood:                -111.73\n",
            "No. Observations:                 150   AIC:                             229.5\n",
            "Df Residuals:                     147   BIC:                             238.5\n",
            "Df Model:                           2                                         \n",
            "Covariance Type:            nonrobust                                         \n",
            "==============================================================================\n",
            "                 coef    std err          t      P>|t|      [0.025      0.975]\n",
            "------------------------------------------------------------------------------\n",
            "const          4.3825      0.032    139.020      0.000       4.320       4.445\n",
            "x1             0.6235      0.060     10.329      0.000       0.504       0.743\n",
            "x2             1.5535      0.060     25.735      0.000       1.434       1.673\n",
            "x3             2.2055      0.060     36.536      0.000       2.086       2.325\n",
            "==============================================================================\n",
            "Omnibus:                        1.188   Durbin-Watson:                   2.043\n",
            "Prob(Omnibus):                  0.552   Jarque-Bera (JB):                0.785\n",
            "Skew:                           0.119   Prob(JB):                        0.675\n",
            "Kurtosis:                       3.263   Cond. No.                     2.62e+15\n",
            "==============================================================================\n",
            "\n",
            "Notes:\n",
            "[1] Standard Errors assume that the covariance matrix of the errors is correctly specified.\n",
            "[2] The smallest eigenvalue is 2.91e-29. This might indicate that there are\n",
            "strong multicollinearity problems or that the design matrix is singular.\n"
          ]
        }
      ]
    },
    {
      "cell_type": "markdown",
      "source": [
        "Question 24: The coefficients (slope terms) in linear regression have a hypothesis test associated with them. The P>|t| column in the model summary gives us the p-value for each of these tests.\n",
        "\n",
        "What is the null hypothesis for this hypothesis test?\n",
        "\n",
        "**Answer: The true value of the coefficient is zero.**"
      ],
      "metadata": {
        "id": "SOicWWXLAw3U"
      }
    },
    {
      "cell_type": "markdown",
      "source": [
        "Question 25: Let's say our sepal length model looks like this:\n",
        "\n",
        "sepal length = 5 + .93*species_versicolor + 1.58*species_virginica\n",
        "\n",
        "What is the maximum value of sepal length that our model can possibly give us?"
      ],
      "metadata": {
        "id": "cz5mAZWOBJUu"
      }
    },
    {
      "cell_type": "code",
      "source": [
        "# Define coefficients from the regression equation\n",
        "intercept = 5\n",
        "coef_versicolor = 0.93\n",
        "coef_virginica = 1.58\n",
        "\n",
        "# Compute sepal lengths for each species\n",
        "sepal_length_setosa = intercept + (coef_versicolor * 0) + (coef_virginica * 0)\n",
        "sepal_length_versicolor = intercept + (coef_versicolor * 1) + (coef_virginica * 0)\n",
        "sepal_length_virginica = intercept + (coef_versicolor * 0) + (coef_virginica * 1)\n",
        "\n",
        "# Determine the maximum sepal length\n",
        "max_sepal_length = max(sepal_length_setosa, sepal_length_versicolor, sepal_length_virginica)\n",
        "\n",
        "# Display results\n",
        "print(f\"Setosa Sepal Length: {sepal_length_setosa}\")\n",
        "print(f\"Versicolor Sepal Length: {sepal_length_versicolor}\")\n",
        "print(f\"Virginica Sepal Length: {sepal_length_virginica}\")\n",
        "print(f\"Maximum Sepal Length: {max_sepal_length}\")\n"
      ],
      "metadata": {
        "colab": {
          "base_uri": "https://localhost:8080/"
        },
        "id": "2B-0ByxEBeL3",
        "outputId": "09cc867b-46cf-4772-a090-a2e175a89057"
      },
      "execution_count": 6,
      "outputs": [
        {
          "output_type": "stream",
          "name": "stdout",
          "text": [
            "Setosa Sepal Length: 5.0\n",
            "Versicolor Sepal Length: 5.93\n",
            "Virginica Sepal Length: 6.58\n",
            "Maximum Sepal Length: 6.58\n"
          ]
        }
      ]
    }
  ]
}
